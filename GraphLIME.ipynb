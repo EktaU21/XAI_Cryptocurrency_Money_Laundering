{
  "cells": [
    {
      "cell_type": "markdown",
      "metadata": {
        "id": "view-in-github",
        "colab_type": "text"
      },
      "source": [
        "<a href=\"https://colab.research.google.com/github/EktaU21/XAI_Cryptocurrency_Money_Laundering/blob/main/GraphLIME.ipynb\" target=\"_parent\"><img src=\"https://colab.research.google.com/assets/colab-badge.svg\" alt=\"Open In Colab\"/></a>"
      ]
    },
    {
      "cell_type": "code",
      "execution_count": 1,
      "metadata": {
        "id": "lSJ0LJ6kshit",
        "colab": {
          "base_uri": "https://localhost:8080/",
          "height": 0
        },
        "outputId": "d6413f48-4e71-48ec-bc58-50405f44990b"
      },
      "outputs": [
        {
          "output_type": "stream",
          "name": "stdout",
          "text": [
            "Looking in links: https://data.pyg.org/whl/torch-2.6.0+cu124.html\n",
            "Requirement already satisfied: torch-sparse in /usr/local/lib/python3.11/dist-packages (0.6.18+pt26cu124)\n",
            "Requirement already satisfied: scipy in /usr/local/lib/python3.11/dist-packages (from torch-sparse) (1.15.3)\n",
            "Requirement already satisfied: numpy<2.5,>=1.23.5 in /usr/local/lib/python3.11/dist-packages (from scipy->torch-sparse) (2.0.2)\n",
            "Looking in links: https://data.pyg.org/whl/torch-2.6.0+cu124.html\n",
            "Requirement already satisfied: torch-scatter in /usr/local/lib/python3.11/dist-packages (2.1.2+pt26cu124)\n",
            "Requirement already satisfied: torch-geometric in /usr/local/lib/python3.11/dist-packages (2.6.1)\n",
            "Requirement already satisfied: aiohttp in /usr/local/lib/python3.11/dist-packages (from torch-geometric) (3.11.15)\n",
            "Requirement already satisfied: fsspec in /usr/local/lib/python3.11/dist-packages (from torch-geometric) (2025.3.2)\n",
            "Requirement already satisfied: jinja2 in /usr/local/lib/python3.11/dist-packages (from torch-geometric) (3.1.6)\n",
            "Requirement already satisfied: numpy in /usr/local/lib/python3.11/dist-packages (from torch-geometric) (2.0.2)\n",
            "Requirement already satisfied: psutil>=5.8.0 in /usr/local/lib/python3.11/dist-packages (from torch-geometric) (5.9.5)\n",
            "Requirement already satisfied: pyparsing in /usr/local/lib/python3.11/dist-packages (from torch-geometric) (3.2.3)\n",
            "Requirement already satisfied: requests in /usr/local/lib/python3.11/dist-packages (from torch-geometric) (2.32.3)\n",
            "Requirement already satisfied: tqdm in /usr/local/lib/python3.11/dist-packages (from torch-geometric) (4.67.1)\n",
            "Requirement already satisfied: aiohappyeyeballs>=2.3.0 in /usr/local/lib/python3.11/dist-packages (from aiohttp->torch-geometric) (2.6.1)\n",
            "Requirement already satisfied: aiosignal>=1.1.2 in /usr/local/lib/python3.11/dist-packages (from aiohttp->torch-geometric) (1.3.2)\n",
            "Requirement already satisfied: attrs>=17.3.0 in /usr/local/lib/python3.11/dist-packages (from aiohttp->torch-geometric) (25.3.0)\n",
            "Requirement already satisfied: frozenlist>=1.1.1 in /usr/local/lib/python3.11/dist-packages (from aiohttp->torch-geometric) (1.6.0)\n",
            "Requirement already satisfied: multidict<7.0,>=4.5 in /usr/local/lib/python3.11/dist-packages (from aiohttp->torch-geometric) (6.4.3)\n",
            "Requirement already satisfied: propcache>=0.2.0 in /usr/local/lib/python3.11/dist-packages (from aiohttp->torch-geometric) (0.3.1)\n",
            "Requirement already satisfied: yarl<2.0,>=1.17.0 in /usr/local/lib/python3.11/dist-packages (from aiohttp->torch-geometric) (1.20.0)\n",
            "Requirement already satisfied: MarkupSafe>=2.0 in /usr/local/lib/python3.11/dist-packages (from jinja2->torch-geometric) (3.0.2)\n",
            "Requirement already satisfied: charset-normalizer<4,>=2 in /usr/local/lib/python3.11/dist-packages (from requests->torch-geometric) (3.4.2)\n",
            "Requirement already satisfied: idna<4,>=2.5 in /usr/local/lib/python3.11/dist-packages (from requests->torch-geometric) (3.10)\n",
            "Requirement already satisfied: urllib3<3,>=1.21.1 in /usr/local/lib/python3.11/dist-packages (from requests->torch-geometric) (2.4.0)\n",
            "Requirement already satisfied: certifi>=2017.4.17 in /usr/local/lib/python3.11/dist-packages (from requests->torch-geometric) (2025.4.26)\n"
          ]
        }
      ],
      "source": [
        "import torch\n",
        "!pip install torch-sparse -f https://data.pyg.org/whl/torch-{torch.__version__}.html\n",
        "!pip install torch-scatter -f https://data.pyg.org/whl/torch-{torch.__version__}.html\n",
        "!pip install torch-geometric"
      ]
    },
    {
      "cell_type": "code",
      "execution_count": 2,
      "metadata": {
        "id": "ladvGRRiLE3p",
        "colab": {
          "base_uri": "https://localhost:8080/",
          "height": 0
        },
        "outputId": "fc92cfa5-a69b-44ff-f3fe-bccc386ce753"
      },
      "outputs": [
        {
          "output_type": "stream",
          "name": "stdout",
          "text": [
            "Looking in links: https://data.pyg.org/whl/torch-2.6.0+cu124.html\n",
            "Requirement already satisfied: torch-cluster in /usr/local/lib/python3.11/dist-packages (1.6.3+pt26cu124)\n",
            "Requirement already satisfied: scipy in /usr/local/lib/python3.11/dist-packages (from torch-cluster) (1.15.3)\n",
            "Requirement already satisfied: numpy<2.5,>=1.23.5 in /usr/local/lib/python3.11/dist-packages (from scipy->torch-cluster) (2.0.2)\n",
            "Looking in links: https://data.pyg.org/whl/torch-2.6.0+cu124.html\n",
            "Requirement already satisfied: torch-spline-conv in /usr/local/lib/python3.11/dist-packages (1.2.2+pt26cu124)\n"
          ]
        }
      ],
      "source": [
        "! pip install torch-cluster -f https://data.pyg.org/whl/torch-{torch.__version__}.html\n",
        "! pip install torch-spline-conv -f https://data.pyg.org/whl/torch-{torch.__version__}.html"
      ]
    },
    {
      "cell_type": "code",
      "execution_count": 3,
      "metadata": {
        "colab": {
          "base_uri": "https://localhost:8080/",
          "height": 0
        },
        "id": "kpaUeW48tUYu",
        "outputId": "63e30f9d-5f81-425a-8b22-56da915551cf"
      },
      "outputs": [
        {
          "output_type": "stream",
          "name": "stdout",
          "text": [
            "Drive already mounted at /content/drive; to attempt to forcibly remount, call drive.mount(\"/content/drive\", force_remount=True).\n"
          ]
        }
      ],
      "source": [
        "from google.colab import drive\n",
        "drive.mount('/content/drive')"
      ]
    },
    {
      "cell_type": "code",
      "execution_count": 4,
      "metadata": {
        "id": "Pm18hayxL_s5"
      },
      "outputs": [],
      "source": [
        "import numpy as np\n",
        "import pandas as pd\n",
        "import torch\n",
        "from torch.nn import Linear, LayerNorm, ReLU, Dropout\n",
        "import torch.nn.functional as F\n",
        "from torch_geometric.nn import ChebConv, NNConv, DeepGCNLayer, GATConv, DenseGCNConv, GCNConv, GraphConv\n",
        "from torch_geometric.data import Data, DataLoader\n",
        "\n",
        "from sklearn.metrics import roc_auc_score\n",
        "import scipy.sparse as sp\n",
        "\n",
        "import warnings\n",
        "warnings.filterwarnings(\"ignore\")"
      ]
    },
    {
      "cell_type": "code",
      "execution_count": 5,
      "metadata": {
        "id": "rHyYeDCEIGJr",
        "colab": {
          "base_uri": "https://localhost:8080/",
          "height": 0
        },
        "outputId": "3512458a-8608-49aa-afff-ed5f3ccb93f7"
      },
      "outputs": [
        {
          "output_type": "stream",
          "name": "stdout",
          "text": [
            "Requirement already satisfied: graphlime in /usr/local/lib/python3.11/dist-packages (1.2.0)\n"
          ]
        }
      ],
      "source": [
        "import os\n",
        "import networkx as nx\n",
        "from tqdm.notebook import tqdm\n",
        "\n",
        "import torch.nn as nn\n",
        "import torch.optim as optim\n",
        "import torch.nn.functional as F\n",
        "\n",
        "\n",
        "from torch_geometric.nn import GATConv\n",
        "from torch_geometric.utils import to_networkx\n",
        "from torch_geometric.transforms import NormalizeFeatures\n",
        "\n",
        "!pip install graphlime\n",
        "from graphlime import GraphLIME\n",
        "\n",
        "import matplotlib.pyplot as plt\n",
        "\n",
        "%matplotlib inline"
      ]
    },
    {
      "cell_type": "code",
      "source": [
        "from torch_geometric.nn import ChebConv, NNConv, DeepGCNLayer, GATConv, DenseGCNConv, GCNConv, GraphConv\n",
        "import torch.nn as nn\n",
        "import torch.optim as optim\n",
        "from tqdm import tqdm, trange"
      ],
      "metadata": {
        "id": "_KOca2fiK0AI"
      },
      "execution_count": 19,
      "outputs": []
    },
    {
      "cell_type": "code",
      "source": [
        "pip install --upgrade graphlime\n"
      ],
      "metadata": {
        "colab": {
          "base_uri": "https://localhost:8080/",
          "height": 0
        },
        "id": "wNoc68ciDWtu",
        "outputId": "377b85cd-695f-4255-d2ce-b727273f6af0"
      },
      "execution_count": 11,
      "outputs": [
        {
          "output_type": "stream",
          "name": "stdout",
          "text": [
            "Requirement already satisfied: graphlime in /usr/local/lib/python3.11/dist-packages (1.2.0)\n"
          ]
        }
      ]
    },
    {
      "cell_type": "code",
      "source": [
        "file_path = \"/usr/local/lib/python3.11/dist-packages/graphlime/__init__.py\"\n",
        "\n",
        "# Read the contents of the file\n",
        "with open(file_path, \"r\") as file:\n",
        "    content = file.read()\n",
        "\n",
        "# Remove all occurrences of \"normalize=False\" or \"normalize=True\"\n",
        "import re\n",
        "content = re.sub(r\",?\\s*normalize\\s*=\\s*(True|False)\", \"\", content)\n",
        "\n",
        "# Write the cleaned content back\n",
        "with open(file_path, \"w\") as file:\n",
        "    file.write(content)\n",
        "\n",
        "print(\"✅ All 'normalize=' arguments removed from GraphLIME. Now restart your runtime and rerun the code.\")\n"
      ],
      "metadata": {
        "colab": {
          "base_uri": "https://localhost:8080/",
          "height": 0
        },
        "id": "CQqwbDdyDL2b",
        "outputId": "fd2e966f-97d8-4849-b6c4-8d0d3d3dc74a"
      },
      "execution_count": 8,
      "outputs": [
        {
          "output_type": "stream",
          "name": "stdout",
          "text": [
            "✅ All 'normalize=' arguments removed from GraphLIME. Now restart your runtime and rerun the code.\n"
          ]
        }
      ]
    },
    {
      "cell_type": "markdown",
      "source": [
        "# **GraphLIME_GAT**"
      ],
      "metadata": {
        "id": "5GPhGhGhKjWB"
      }
    },
    {
      "cell_type": "code",
      "source": [
        "def test(srno):\n",
        "\n",
        "  df_features = pd.read_csv('/content/drive/MyDrive/elliptic_bitcoin_dataset/elliptic_txs_features.csv', header=None)\n",
        "  df_edges = pd.read_csv('/content/drive/MyDrive/elliptic_bitcoin_dataset/elliptic_txs_edgelist.csv')\n",
        "  df_classes =  pd.read_csv('/content/drive/MyDrive/elliptic_bitcoin_dataset/elliptic_txs_classes.csv')\n",
        "  df_classes['class'] = df_classes['class'].map({'unknown': 2, '1':1, '2':0})\n",
        "\n",
        "  # merging dataframes\n",
        "  df_merge = df_features.merge(df_classes, how='left', right_on=\"txId\", left_on=0)\n",
        "  df_merge = df_merge.loc[df_merge[1] == srno]\n",
        "  df_merge = df_merge.sort_values(0).reset_index(drop=True)\n",
        "  classified = df_merge.loc[df_merge['class'].loc[df_merge['class']!=2].index].drop('txId', axis=1)\n",
        "  unclassified = df_merge.loc[df_merge['class'].loc[df_merge['class']==2].index].drop('txId', axis=1)\n",
        "\n",
        "  # storing classified unclassified nodes seperatly for training and testing purpose\n",
        "  classified_edges = df_edges.loc[df_edges['txId1'].isin(classified[0]) & df_edges['txId2'].isin(classified[0])]\n",
        "  unclassified_edges = df_edges.loc[df_edges['txId1'].isin(unclassified[0]) | df_edges['txId2'].isin(unclassified[0])]\n",
        "  del df_features, df_classes\n",
        "\n",
        "  edgess =  df_edges.loc[df_edges['txId1'].isin(df_merge[0]) & df_edges['txId2'].isin(df_merge[0])]\n",
        "\n",
        "  # all nodes in data\n",
        "  nodes = df_merge[0].values\n",
        "  map_id = {j:i for i,j in enumerate(nodes)} # mapping nodes to indexes\n",
        "\n",
        "  edges = edgess.copy()\n",
        "  edges.txId1 = edges.txId1.map(map_id)\n",
        "  edges.txId2 = edges.txId2.map(map_id)\n",
        "  #edges = edges.astype(int)\n",
        "\n",
        "  edge_index = np.array(edges.values).T\n",
        "\n",
        "  edge_index = torch.tensor(edge_index, dtype=torch.long).contiguous()\n",
        "  weights = torch.tensor([1]* edge_index.shape[1] , dtype=torch.double)\n",
        "  #print(edge_index.shape)\n",
        "\n",
        "  # maping txIds to corresponding indexes, to pass node features to the model\n",
        "  node_features = df_merge.drop(['txId'], axis=1).copy()\n",
        "  node_features[0] = node_features[0].map(map_id)\n",
        "  classified_idx = node_features['class'].loc[node_features['class']!=2].index\n",
        "  unclassified_idx = node_features['class'].loc[node_features['class']==2].index\n",
        "  # replace unkown class with 0, to avoid having 3 classes, this data/labels never used in training\n",
        "  node_features['class'] = node_features['class'].replace(2, 0)\n",
        "  #print(len(classified_idx))\n",
        "\n",
        "  labels = node_features['class'].values\n",
        "  node_features = torch.tensor(np.array(node_features.drop([0, 'class', 1], axis=1).values, dtype=np.double), dtype=torch.double)\n",
        "\n",
        "  # converting data to PyGeometric graph data format\n",
        "  data_train = Data(x=node_features, edge_index=edge_index, edge_attr=weights,\n",
        "                               y=torch.tensor(labels, dtype=torch.double)) #, adj= torch.from_numpy(np.array(adj))\n",
        "\n",
        "  #print(data_train)\n",
        "\n",
        "  y_train = labels[classified_idx]\n",
        "\n",
        "  # spliting train set and validation set\n",
        "  from sklearn.model_selection import train_test_split\n",
        "  X_train, X_valid, y_train, y_valid, train_idx, valid_idx = train_test_split(node_features[classified_idx], y_train, classified_idx, test_size=0.15, random_state=42, stratify=y_train)\n",
        "\n",
        "  train_idx\n",
        "  ten_train_idx = torch.tensor(train_idx)\n",
        "  ten_train_idx\n",
        "\n",
        "  from torch_geometric.utils import index_to_mask, mask_to_index\n",
        "  train_mask = index_to_mask(ten_train_idx, size= len(labels))\n",
        "  train_mask.shape\n",
        "\n",
        "  valid_idx\n",
        "  ten_valid_idx = torch.tensor(valid_idx)\n",
        "  ten_valid_idx\n",
        "\n",
        "  from torch_geometric.utils import index_to_mask, mask_to_index\n",
        "  val_mask = index_to_mask(ten_valid_idx, size= len(labels))\n",
        "  val_mask.shape\n",
        "\n",
        "  # converting data to PyGeometric graph data format\n",
        "  data_train = Data(x=torch.tensor(node_features,dtype=torch.float),\n",
        "                  edge_index=edge_index, #edge_attr=weights,\n",
        "                               y=torch.tensor(labels, dtype=torch.long),\n",
        "                  train_mask=torch.tensor(train_mask,dtype=torch.bool),\n",
        "                  val_mask=torch.tensor(val_mask,dtype=torch.bool)) #, adj= torch.from_numpy(np.array(adj))\n",
        "\n",
        "  print(data_train)\n",
        "  with open(\"/content/drive/MyDrive/GraphLIME_TS/Information/result.txt\", \"a+\") as o:\n",
        "    o.write('\\nTime Step ' + str(srno) + '\\n')\n",
        "    o.write(f' {data_train}')\n",
        "\n",
        "  #visualize the Graph\n",
        "  plt.figure(figsize=(16, 12))\n",
        "  G = to_networkx(data_train, to_undirected=True)\n",
        "\n",
        "  #extract the degree value\n",
        "  degrees = dict(nx.degree(G))\n",
        "  node_indices = list(degrees.keys())\n",
        "  node_degrees = list(degrees.values())\n",
        "\n",
        "  max_degree = max(node_degrees)\n",
        "  node_idx = np.argmax(node_degrees).item()\n",
        "\n",
        "  plt.figure(figsize=(16, 4))\n",
        "  plt.bar(node_indices, node_degrees, width=5.0)\n",
        "  plt.vlines(x=node_idx, ymin=0, ymax=max_degree, colors='r')\n",
        "  plt.title('Degree of Nodes for Time Step'+str(srno))\n",
        "  plt.xlabel('Node Index')\n",
        "  plt.ylabel('Degree');\n",
        "\n",
        "  rootdir = '/content/drive/MyDrive/GraphLIME_TS/features/'\n",
        "  output_file = os.path.join(rootdir, 'TS'+ str(srno) + '.png')\n",
        "  plt.savefig(output_file)\n",
        "\n",
        "\n",
        "  print(f'Node {node_idx} has the largest degree value {max_degree}.')\n",
        "\n",
        "  #define a GAT class\n",
        "\n",
        "  class GAT(nn.Module):\n",
        "\n",
        "    def __init__(self, input_dim, hidden_dim, output_dim,\n",
        "                 heads_1=8, heads_2=1, att_dropout=0.6, input_dropout=0.6):\n",
        "\n",
        "        super(GAT, self).__init__()\n",
        "\n",
        "        self.att_dropout = att_dropout\n",
        "        self.input_dropout = input_dropout\n",
        "\n",
        "        self.conv1 = GATConv(in_channels=input_dim,\n",
        "                             out_channels=hidden_dim // heads_1,\n",
        "                             heads=heads_1,\n",
        "                             concat=True,\n",
        "                             dropout=att_dropout)\n",
        "        self.conv2 = GATConv(in_channels=hidden_dim,\n",
        "                             out_channels=output_dim,\n",
        "                             heads=heads_2,\n",
        "                             concat=False,\n",
        "                             dropout=att_dropout)\n",
        "\n",
        "    def forward(self, x, edge_index):\n",
        "        x = F.dropout(x, p=self.input_dropout, training=self.training)\n",
        "        x = self.conv1(x, edge_index)\n",
        "        x = F.elu(x)\n",
        "        x = F.dropout(x, p=self.input_dropout, training=self.training)\n",
        "        x = self.conv2(x, edge_index)\n",
        "\n",
        "        return F.log_softmax(x, dim=1)\n",
        "\n",
        " #Instantiate a GAT model\n",
        "  hparams = {\n",
        "    'input_dim': data_train.num_node_features,\n",
        "    'hidden_dim':8,\n",
        "    'output_dim': int(max(data_train.y).item()) + 1\n",
        "  }\n",
        "  model = GAT(**hparams)\n",
        "  model\n",
        "\n",
        "  #Train the model\n",
        "  def accuracy(output, labels):\n",
        "    _, pred = output.max(dim=1)\n",
        "    correct = pred.eq(labels).double()\n",
        "    correct = correct.sum()\n",
        "\n",
        "    return correct / len(labels)\n",
        "\n",
        "  lr = 0.005\n",
        "  #change the lr and epochs to 0.01 and 200\n",
        "  epochs =300\n",
        "\n",
        "  model.train()\n",
        "  optimizer = optim.Adam(model.parameters(), lr=lr)\n",
        "\n",
        "  for epoch in tqdm(range(epochs)):\n",
        "    optimizer.zero_grad()\n",
        "\n",
        "    output = model(data_train.x, data_train.edge_index)\n",
        "    loss = F.nll_loss(output[data_train.train_mask], data_train.y[data_train.train_mask])\n",
        "\n",
        "    loss.backward()\n",
        "    optimizer.step()\n",
        "\n",
        "    if epoch % 10 == 0:\n",
        "        acc = accuracy(output[data_train.train_mask], data_train.y[data_train.train_mask])\n",
        "        print('Epoch: {:3d}, acc = {:.3f}'.format(epoch, acc))\n",
        "\n",
        "  #Explain node features\n",
        "  node_idx\n",
        "  model.eval()\n",
        "\n",
        "  # instantiate a GraphLIME object\n",
        "  explainer = GraphLIME(model, hop=2, rho=0.1, cached=True)\n",
        "\n",
        "  # explain node features by calling the method `explain_node()`\n",
        "  coefs = explainer.explain_node(node_idx, data_train.x, data_train.edge_index)\n",
        "  coefs\n",
        "\n",
        "  with open(\"/content/drive/MyDrive/GraphLIME_TS/Information/matrix.csv\", \"a+\") as o:\n",
        "    o.write(\"Coefficient of Time Step\"+str(srno)+'\\n')\n",
        "    o.write(f' {coefs}')\n",
        "    o.write(\"\\n\")\n",
        "\n",
        "\n",
        "  #visualize the coefficeints\n",
        "  plt.figure(figsize=(16, 4))\n",
        "\n",
        "  x = list(range(data_train.num_node_features))\n",
        "\n",
        "  plt.bar(x, coefs, width=5.0)\n",
        "  plt.xlabel('Feature Index')\n",
        "  plt.ylabel(r'$\\beta$');\n",
        "  out = \"Time Step\" + str(1);\n",
        "  plt.title(out);\n",
        "\n",
        "  print(f'The {np.argmax(coefs)}-th feature is the most important.')\n",
        "\n",
        "test(3)"
      ],
      "metadata": {
        "colab": {
          "base_uri": "https://localhost:8080/",
          "height": 1016
        },
        "id": "sXu4XKCWBABj",
        "outputId": "e91bde02-e9c0-45c6-f3c1-48265ae4ba6b"
      },
      "execution_count": 21,
      "outputs": [
        {
          "output_type": "stream",
          "name": "stdout",
          "text": [
            "Data(x=[6621, 165], edge_index=[2, 8316], y=[6621], train_mask=[6621], val_mask=[6621])\n",
            "Node 5953 has the largest degree value 47.\n"
          ]
        },
        {
          "output_type": "stream",
          "name": "stderr",
          "text": [
            "  1%|          | 3/300 [00:00<00:10, 29.68it/s]"
          ]
        },
        {
          "output_type": "stream",
          "name": "stdout",
          "text": [
            "Epoch:   0, acc = 0.707\n"
          ]
        },
        {
          "output_type": "stream",
          "name": "stderr",
          "text": [
            "  5%|▌         | 15/300 [00:00<00:09, 30.29it/s]"
          ]
        },
        {
          "output_type": "stream",
          "name": "stdout",
          "text": [
            "Epoch:  10, acc = 0.887\n"
          ]
        },
        {
          "output_type": "stream",
          "name": "stderr",
          "text": [
            "  9%|▊         | 26/300 [00:00<00:09, 29.21it/s]"
          ]
        },
        {
          "output_type": "stream",
          "name": "stdout",
          "text": [
            "Epoch:  20, acc = 0.943\n"
          ]
        },
        {
          "output_type": "stream",
          "name": "stderr",
          "text": [
            " 12%|█▏        | 37/300 [00:01<00:08, 30.31it/s]"
          ]
        },
        {
          "output_type": "stream",
          "name": "stdout",
          "text": [
            "Epoch:  30, acc = 0.968\n"
          ]
        },
        {
          "output_type": "stream",
          "name": "stderr",
          "text": [
            " 15%|█▌        | 45/300 [00:01<00:08, 28.83it/s]"
          ]
        },
        {
          "output_type": "stream",
          "name": "stdout",
          "text": [
            "Epoch:  40, acc = 0.976\n"
          ]
        },
        {
          "output_type": "stream",
          "name": "stderr",
          "text": [
            " 18%|█▊        | 54/300 [00:01<00:08, 28.47it/s]"
          ]
        },
        {
          "output_type": "stream",
          "name": "stdout",
          "text": [
            "Epoch:  50, acc = 0.975\n"
          ]
        },
        {
          "output_type": "stream",
          "name": "stderr",
          "text": [
            " 21%|██        | 63/300 [00:02<00:10, 23.40it/s]"
          ]
        },
        {
          "output_type": "stream",
          "name": "stdout",
          "text": [
            "Epoch:  60, acc = 0.980\n"
          ]
        },
        {
          "output_type": "stream",
          "name": "stderr",
          "text": [
            " 25%|██▌       | 75/300 [00:02<00:10, 20.95it/s]"
          ]
        },
        {
          "output_type": "stream",
          "name": "stdout",
          "text": [
            "Epoch:  70, acc = 0.985\n"
          ]
        },
        {
          "output_type": "stream",
          "name": "stderr",
          "text": [
            " 28%|██▊       | 84/300 [00:03<00:11, 19.59it/s]"
          ]
        },
        {
          "output_type": "stream",
          "name": "stdout",
          "text": [
            "Epoch:  80, acc = 0.984\n"
          ]
        },
        {
          "output_type": "stream",
          "name": "stderr",
          "text": [
            " 32%|███▏      | 95/300 [00:03<00:10, 19.94it/s]"
          ]
        },
        {
          "output_type": "stream",
          "name": "stdout",
          "text": [
            "Epoch:  90, acc = 0.985\n"
          ]
        },
        {
          "output_type": "stream",
          "name": "stderr",
          "text": [
            " 34%|███▍      | 103/300 [00:04<00:09, 20.63it/s]"
          ]
        },
        {
          "output_type": "stream",
          "name": "stdout",
          "text": [
            "Epoch: 100, acc = 0.983\n"
          ]
        },
        {
          "output_type": "stream",
          "name": "stderr",
          "text": [
            " 38%|███▊      | 113/300 [00:04<00:10, 18.11it/s]"
          ]
        },
        {
          "output_type": "stream",
          "name": "stdout",
          "text": [
            "Epoch: 110, acc = 0.988\n"
          ]
        },
        {
          "output_type": "stream",
          "name": "stderr",
          "text": [
            " 42%|████▏     | 125/300 [00:05<00:08, 20.22it/s]"
          ]
        },
        {
          "output_type": "stream",
          "name": "stdout",
          "text": [
            "Epoch: 120, acc = 0.988\n"
          ]
        },
        {
          "output_type": "stream",
          "name": "stderr",
          "text": [
            " 44%|████▍     | 132/300 [00:05<00:08, 19.53it/s]"
          ]
        },
        {
          "output_type": "stream",
          "name": "stdout",
          "text": [
            "Epoch: 130, acc = 0.989\n"
          ]
        },
        {
          "output_type": "stream",
          "name": "stderr",
          "text": [
            " 49%|████▉     | 147/300 [00:06<00:06, 24.74it/s]"
          ]
        },
        {
          "output_type": "stream",
          "name": "stdout",
          "text": [
            "Epoch: 140, acc = 0.991\n"
          ]
        },
        {
          "output_type": "stream",
          "name": "stderr",
          "text": [
            " 52%|█████▏    | 156/300 [00:06<00:05, 27.66it/s]"
          ]
        },
        {
          "output_type": "stream",
          "name": "stdout",
          "text": [
            "Epoch: 150, acc = 0.990\n"
          ]
        },
        {
          "output_type": "stream",
          "name": "stderr",
          "text": [
            " 55%|█████▌    | 165/300 [00:07<00:04, 27.69it/s]"
          ]
        },
        {
          "output_type": "stream",
          "name": "stdout",
          "text": [
            "Epoch: 160, acc = 0.987\n"
          ]
        },
        {
          "output_type": "stream",
          "name": "stderr",
          "text": [
            " 59%|█████▉    | 177/300 [00:07<00:04, 30.27it/s]"
          ]
        },
        {
          "output_type": "stream",
          "name": "stdout",
          "text": [
            "Epoch: 170, acc = 0.989\n"
          ]
        },
        {
          "output_type": "stream",
          "name": "stderr",
          "text": [
            " 62%|██████▏   | 185/300 [00:07<00:03, 30.37it/s]"
          ]
        },
        {
          "output_type": "stream",
          "name": "stdout",
          "text": [
            "Epoch: 180, acc = 0.991\n"
          ]
        },
        {
          "output_type": "stream",
          "name": "stderr",
          "text": [
            " 65%|██████▌   | 196/300 [00:08<00:03, 28.62it/s]"
          ]
        },
        {
          "output_type": "stream",
          "name": "stdout",
          "text": [
            "Epoch: 190, acc = 0.992\n"
          ]
        },
        {
          "output_type": "stream",
          "name": "stderr",
          "text": [
            " 69%|██████▉   | 207/300 [00:08<00:02, 31.88it/s]"
          ]
        },
        {
          "output_type": "stream",
          "name": "stdout",
          "text": [
            "Epoch: 200, acc = 0.991\n"
          ]
        },
        {
          "output_type": "stream",
          "name": "stderr",
          "text": [
            " 72%|███████▏  | 215/300 [00:08<00:02, 34.08it/s]"
          ]
        },
        {
          "output_type": "stream",
          "name": "stdout",
          "text": [
            "Epoch: 210, acc = 0.991\n"
          ]
        },
        {
          "output_type": "stream",
          "name": "stderr",
          "text": [
            " 76%|███████▌  | 227/300 [00:08<00:02, 34.21it/s]"
          ]
        },
        {
          "output_type": "stream",
          "name": "stdout",
          "text": [
            "Epoch: 220, acc = 0.992\n"
          ]
        },
        {
          "output_type": "stream",
          "name": "stderr",
          "text": [
            " 78%|███████▊  | 235/300 [00:09<00:01, 33.70it/s]"
          ]
        },
        {
          "output_type": "stream",
          "name": "stdout",
          "text": [
            "Epoch: 230, acc = 0.989\n"
          ]
        },
        {
          "output_type": "stream",
          "name": "stderr",
          "text": [
            " 82%|████████▏ | 247/300 [00:09<00:01, 34.96it/s]"
          ]
        },
        {
          "output_type": "stream",
          "name": "stdout",
          "text": [
            "Epoch: 240, acc = 0.991\n"
          ]
        },
        {
          "output_type": "stream",
          "name": "stderr",
          "text": [
            " 85%|████████▌ | 255/300 [00:09<00:01, 35.28it/s]"
          ]
        },
        {
          "output_type": "stream",
          "name": "stdout",
          "text": [
            "Epoch: 250, acc = 0.990\n"
          ]
        },
        {
          "output_type": "stream",
          "name": "stderr",
          "text": [
            " 89%|████████▉ | 267/300 [00:10<00:00, 33.83it/s]"
          ]
        },
        {
          "output_type": "stream",
          "name": "stdout",
          "text": [
            "Epoch: 260, acc = 0.991\n"
          ]
        },
        {
          "output_type": "stream",
          "name": "stderr",
          "text": [
            " 92%|█████████▏| 275/300 [00:10<00:00, 34.72it/s]"
          ]
        },
        {
          "output_type": "stream",
          "name": "stdout",
          "text": [
            "Epoch: 270, acc = 0.989\n"
          ]
        },
        {
          "output_type": "stream",
          "name": "stderr",
          "text": [
            " 96%|█████████▌| 287/300 [00:10<00:00, 35.87it/s]"
          ]
        },
        {
          "output_type": "stream",
          "name": "stdout",
          "text": [
            "Epoch: 280, acc = 0.993\n"
          ]
        },
        {
          "output_type": "stream",
          "name": "stderr",
          "text": [
            " 98%|█████████▊| 295/300 [00:10<00:00, 35.21it/s]"
          ]
        },
        {
          "output_type": "stream",
          "name": "stdout",
          "text": [
            "Epoch: 290, acc = 0.990\n"
          ]
        },
        {
          "output_type": "stream",
          "name": "stderr",
          "text": [
            "100%|██████████| 300/300 [00:11<00:00, 27.01it/s]\n"
          ]
        },
        {
          "output_type": "stream",
          "name": "stdout",
          "text": [
            "The 2-th feature is the most important.\n"
          ]
        },
        {
          "output_type": "display_data",
          "data": {
            "text/plain": [
              "<Figure size 1600x1200 with 0 Axes>"
            ]
          },
          "metadata": {}
        },
        {
          "output_type": "display_data",
          "data": {
            "text/plain": [
              "<Figure size 1600x400 with 1 Axes>"
            ],
            "image/png": "[encoded data removed]"
          },
          "metadata": {}
        },
        {
          "output_type": "display_data",
          "data": {
            "text/plain": [
              "<Figure size 1600x400 with 1 Axes>"
            ],
            "image/png": "[encoded data removed]"
          },
          "metadata": {}
        }
      ]
    },
    {
      "cell_type": "markdown",
      "source": [
        "## **GraphLIME_GCN**"
      ],
      "metadata": {
        "id": "bV2B6qzELKuM"
      }
    },
    {
      "cell_type": "code",
      "source": [
        "def test(srno):\n",
        "\n",
        "  df_features = pd.read_csv('/content/drive/MyDrive/elliptic_bitcoin_dataset/elliptic_txs_features.csv', header=None)\n",
        "  df_edges = pd.read_csv('/content/drive/MyDrive/elliptic_bitcoin_dataset/elliptic_txs_edgelist.csv')\n",
        "  df_classes =  pd.read_csv('/content/drive/MyDrive/elliptic_bitcoin_dataset/elliptic_txs_classes.csv')\n",
        "  df_classes['class'] = df_classes['class'].map({'unknown': 2, '1':1, '2':0})\n",
        "\n",
        "  # merging dataframes\n",
        "  df_merge = df_features.merge(df_classes, how='left', right_on=\"txId\", left_on=0)\n",
        "  df_merge = df_merge.loc[df_merge[1] == srno]\n",
        "  df_merge = df_merge.sort_values(0).reset_index(drop=True)\n",
        "  classified = df_merge.loc[df_merge['class'].loc[df_merge['class']!=2].index].drop('txId', axis=1)\n",
        "  unclassified = df_merge.loc[df_merge['class'].loc[df_merge['class']==2].index].drop('txId', axis=1)\n",
        "\n",
        "  # storing classified unclassified nodes seperatly for training and testing purpose\n",
        "  classified_edges = df_edges.loc[df_edges['txId1'].isin(classified[0]) & df_edges['txId2'].isin(classified[0])]\n",
        "  unclassified_edges = df_edges.loc[df_edges['txId1'].isin(unclassified[0]) | df_edges['txId2'].isin(unclassified[0])]\n",
        "  del df_features, df_classes\n",
        "\n",
        "  edgess =  df_edges.loc[df_edges['txId1'].isin(df_merge[0]) & df_edges['txId2'].isin(df_merge[0])]\n",
        "\n",
        "  # all nodes in data\n",
        "  nodes = df_merge[0].values\n",
        "  map_id = {j:i for i,j in enumerate(nodes)} # mapping nodes to indexes\n",
        "\n",
        "  edges = edgess.copy()\n",
        "  edges.txId1 = edges.txId1.map(map_id)\n",
        "  edges.txId2 = edges.txId2.map(map_id)\n",
        "\n",
        "  edge_index = np.array(edges.values).T\n",
        "  edge_index = torch.tensor(edge_index, dtype=torch.long).contiguous()\n",
        "  weights = torch.tensor([1]* edge_index.shape[1] , dtype=torch.double)\n",
        "\n",
        "  # maping txIds to corresponding indexes, to pass node features to the model\n",
        "  node_features = df_merge.drop(['txId'], axis=1).copy()\n",
        "  node_features[0] = node_features[0].map(map_id)\n",
        "  classified_idx = node_features['class'].loc[node_features['class']!=2].index\n",
        "  unclassified_idx = node_features['class'].loc[node_features['class']==2].index\n",
        "  # replace unkown class with 0, to avoid having 3 classes, this data/labels never used in training\n",
        "  node_features['class'] = node_features['class'].replace(2, 0)\n",
        "\n",
        "  labels = node_features['class'].values\n",
        "  node_features = torch.tensor(np.array(node_features.drop([0, 'class', 1], axis=1).values, dtype=np.double), dtype=torch.double)\n",
        "\n",
        "  # converting data to PyGeometric graph data format\n",
        "  data_train = Data(x=node_features, edge_index=edge_index, edge_attr=weights,\n",
        "                               y=torch.tensor(labels, dtype=torch.double)) #, adj= torch.from_numpy(np.array(adj))\n",
        "\n",
        "\n",
        "  y_train = labels[classified_idx]\n",
        "\n",
        "  # spliting train set and validation set\n",
        "  from sklearn.model_selection import train_test_split\n",
        "  X_train, X_valid, y_train, y_valid, train_idx, valid_idx = train_test_split(node_features[classified_idx], y_train, classified_idx, test_size=0.15, random_state=42, stratify=y_train)\n",
        "\n",
        "  train_idx\n",
        "  ten_train_idx = torch.tensor(train_idx)\n",
        "  ten_train_idx\n",
        "\n",
        "  from torch_geometric.utils import index_to_mask, mask_to_index\n",
        "  train_mask = index_to_mask(ten_train_idx, size= len(labels))\n",
        "  train_mask.shape\n",
        "\n",
        "  valid_idx\n",
        "  ten_valid_idx = torch.tensor(valid_idx)\n",
        "  ten_valid_idx\n",
        "\n",
        "  from torch_geometric.utils import index_to_mask, mask_to_index\n",
        "  val_mask = index_to_mask(ten_valid_idx, size= len(labels))\n",
        "  val_mask.shape\n",
        "\n",
        "  # converting data to PyGeometric graph data format\n",
        "  data_train = Data(x=torch.tensor(node_features,dtype=torch.float),\n",
        "                  edge_index=edge_index, #edge_attr=weights,\n",
        "                               y=torch.tensor(labels, dtype=torch.long),\n",
        "                  train_mask=torch.tensor(train_mask,dtype=torch.bool),\n",
        "                  val_mask=torch.tensor(val_mask,dtype=torch.bool)) #, adj= torch.from_numpy(np.array(adj))\n",
        "\n",
        "  print(data_train)\n",
        "  #outt_file = '/content/drive/MyDrive/GraphLIME_TS/Information/result'+ str(srno) + '.txt'\n",
        "  with open(\"/content/drive/MyDrive/GraphLIME_TS/Information/result.txt\", \"a+\") as o:\n",
        "    o.write('\\nTime Step ' + str(srno) + '\\n')\n",
        "    o.write(f' {data_train}')\n",
        "\n",
        "  #visualize the Graph\n",
        "  plt.figure(figsize=(16, 12))\n",
        "  G = to_networkx(data_train, to_undirected=True)\n",
        "  #pos = nx.spring_layout(G, k=0.1)\n",
        "  #nx.draw_networkx(G, with_labels=False, node_size=30)\n",
        "  #plt.title('AML');\n",
        "\n",
        "  #extract the degree value\n",
        "  degrees = dict(nx.degree(G))\n",
        "  node_indices = list(degrees.keys())\n",
        "  node_degrees = list(degrees.values())\n",
        "\n",
        "  max_degree = max(node_degrees)\n",
        "  node_idx = np.argmax(node_degrees).item()\n",
        "\n",
        "  plt.figure(figsize=(16, 4))\n",
        "  plt.bar(node_indices, node_degrees, width=5.0)\n",
        "  plt.vlines(x=node_idx, ymin=0, ymax=max_degree, colors='r')\n",
        "  plt.title('Degree of Nodes for Time Step'+str(srno))\n",
        "  plt.xlabel('Node Index')\n",
        "  plt.ylabel('Degree');\n",
        "\n",
        "  rootdir = '/content/drive/MyDrive/GraphLIME_TS/features/'\n",
        "  output_file = os.path.join(rootdir, 'TS'+ str(srno) + '.png')\n",
        "  plt.savefig(output_file)\n",
        "\n",
        "\n",
        "  print(f'Node {node_idx} has the largest degree value {max_degree}.')\n",
        "\n",
        "  #define a GCN class\n",
        "\n",
        "  class Net(torch.nn.Module):\n",
        "          def __init__(self, num_features, dim=16, num_classes=1):\n",
        "            super(Net, self).__init__()\n",
        "            self.conv1 = GCNConv(num_features, dim)\n",
        "            self.conv2 = GCNConv(dim, num_classes)\n",
        "\n",
        "          def forward(self, x, edge_index, data=None):\n",
        "            x = F.relu(self.conv1(x, edge_index))\n",
        "            x = F.dropout(x, training=self.training)\n",
        "            x = self.conv2(x, edge_index)\n",
        "            return F.log_softmax(x, dim=1)\n",
        "\n",
        "  epochs = 300\n",
        "  dim = 16\n",
        "\n",
        "  device = torch.device('cuda' if torch.cuda.is_available() else 'cpu')\n",
        "  model = Net(num_features=data_train.num_node_features, dim=dim, num_classes=int(max(data_train.y).item())+1).to(device)\n",
        "  optimizer = torch.optim.Adam(model.parameters(), lr=0.005, weight_decay=5e-3)\n",
        "\n",
        "  def test(model, data):\n",
        "        model.eval()\n",
        "        logits, accs = model(data_train.x, data_train.edge_index, data), []\n",
        "        for _, mask in data('train_mask', 'val_mask'):\n",
        "            pred = logits[mask].max(1)[1]\n",
        "            acc = pred.eq(data_train.y[mask]).sum().item() / mask.sum().item()\n",
        "            accs.append(acc)\n",
        "        return accs\n",
        "\n",
        "\n",
        "  loss = 999.0\n",
        "  train_acc = 0.0\n",
        "  test_acc = 0.0\n",
        "\n",
        "  t = trange(epochs, desc=\"Stats: \", position=0)\n",
        "\n",
        "  for epoch in t:\n",
        "\n",
        "    model.train()\n",
        "\n",
        "    loss = 0\n",
        "\n",
        "    data = data_train.to(device)\n",
        "    optimizer.zero_grad()\n",
        "    log_logits = model(data_train.x, data_train.edge_index, data_train)\n",
        "\n",
        "     # Since the data is a single huge graph, training on the training set is done by masking the nodes that are not in the training set.\n",
        "    loss = F.nll_loss(log_logits[data_train.train_mask], data_train.y[data_train.train_mask])\n",
        "    loss.backward()\n",
        "    optimizer.step()\n",
        "\n",
        "    # validate\n",
        "    train_acc, test_acc = test(model, data_train)\n",
        "    train_loss = loss\n",
        "\n",
        "    model.eval()\n",
        "\n",
        "  # instantiate a GraphLIME object\n",
        "  explainer = GraphLIME(model, hop=2, rho=0.1, cached=True)\n",
        "\n",
        "  # explain node features by calling the method `explain_node()`\n",
        "  coefs = explainer.explain_node(node_idx, data_train.x, data_train.edge_index)\n",
        "  coefs\n",
        "\n",
        "  with open(\"/content/drive/MyDrive/GraphLIME_TS/Information/matrix.csv\", \"a+\") as o:\n",
        "    o.write(\"Coefficient of Time Step\"+str(srno)+'\\n')\n",
        "    o.write(f' {coefs}')\n",
        "    o.write(\"\\n\")\n",
        "\n",
        "\n",
        "  #visualize the coefficeints\n",
        "  plt.figure(figsize=(16, 4))\n",
        "\n",
        "  x = list(range(data_train.num_node_features))\n",
        "\n",
        "  plt.bar(x, coefs, width=5.0)\n",
        "  plt.xlabel('Feature Index')\n",
        "  plt.ylabel(r'$\\beta$');\n",
        "  out = \"Time Step\" + str(1);\n",
        "  plt.title(out);\n",
        "\n",
        "  print(f'The {np.argmax(coefs)}-th feature is the most important.')\n",
        "\n",
        "test(3)"
      ],
      "metadata": {
        "colab": {
          "base_uri": "https://localhost:8080/",
          "height": 894
        },
        "id": "m_VNEeUxH1VR",
        "outputId": "9d11b16e-0d7d-42c4-b3a2-e3939d91fb99"
      },
      "execution_count": 20,
      "outputs": [
        {
          "output_type": "stream",
          "name": "stdout",
          "text": [
            "Data(x=[6621, 165], edge_index=[2, 8316], y=[6621], train_mask=[6621], val_mask=[6621])\n",
            "Node 5953 has the largest degree value 47.\n"
          ]
        },
        {
          "output_type": "stream",
          "name": "stderr",
          "text": [
            "Stats: 100%|██████████| 300/300 [00:09<00:00, 32.74it/s]\n"
          ]
        },
        {
          "output_type": "stream",
          "name": "stdout",
          "text": [
            "The 13-th feature is the most important.\n"
          ]
        },
        {
          "output_type": "display_data",
          "data": {
            "text/plain": [
              "<Figure size 1600x1200 with 0 Axes>"
            ]
          },
          "metadata": {}
        },
        {
          "output_type": "display_data",
          "data": {
            "text/plain": [
              "<Figure size 1600x400 with 1 Axes>"
            ],
            "image/png": "[encoded data removed]"
          },
          "metadata": {}
        },
        {
          "output_type": "display_data",
          "data": {
            "text/plain": [
              "<Figure size 1600x400 with 1 Axes>"
            ],
            "image/png": "[encoded data removed]"
          },
          "metadata": {}
        }
      ]
    }
  ],
  "metadata": {
    "accelerator": "GPU",
    "colab": {
      "provenance": [],
      "include_colab_link": true
    },
    "gpuClass": "standard",
    "kernelspec": {
      "display_name": "Python 3",
      "name": "python3"
    },
    "language_info": {
      "name": "python"
    }
  },
  "nbformat": 4,
  "nbformat_minor": 0
}